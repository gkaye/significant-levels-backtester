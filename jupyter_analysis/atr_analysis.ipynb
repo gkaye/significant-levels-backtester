{
 "cells": [
  {
   "cell_type": "code",
   "execution_count": 3,
   "id": "b1926eab",
   "metadata": {},
   "outputs": [],
   "source": [
    "import pandas\n",
    "import pickle\n",
    "import datetime\n",
    "import time\n",
    "import pytz\n",
    "import numpy as np\n",
    "import mplfinance as mpf\n",
    "import matplotlib.ticker as mticker\n",
    "import io\n",
    "from PIL import Image\n",
    "from pathlib import Path\n"
   ]
  },
  {
   "cell_type": "code",
   "execution_count": 4,
   "id": "6a67abf1",
   "metadata": {},
   "outputs": [
    {
     "data": {
      "text/html": [
       "<style>.container { width:90% !important; }</style>"
      ],
      "text/plain": [
       "<IPython.core.display.HTML object>"
      ]
     },
     "metadata": {},
     "output_type": "display_data"
    }
   ],
   "source": [
    "from IPython.display import display, HTML\n",
    "display(HTML(\"<style>.container { width:90% !important; }</style>\"))\n",
    "pandas.set_option('display.max_columns', None)\n",
    "pandas.set_option('display.max_rows', None)\n"
   ]
  },
  {
   "cell_type": "code",
   "execution_count": 5,
   "id": "201ac324",
   "metadata": {},
   "outputs": [
    {
     "ename": "KeyError",
     "evalue": "'parameter_target'",
     "output_type": "error",
     "traceback": [
      "\u001b[1;31m---------------------------------------------------------------------------\u001b[0m",
      "\u001b[1;31mKeyError\u001b[0m                                  Traceback (most recent call last)",
      "\u001b[1;32mC:\\ProgramData\\Anaconda3\\lib\\site-packages\\pandas\\core\\indexes\\base.py\u001b[0m in \u001b[0;36mget_loc\u001b[1;34m(self, key, method, tolerance)\u001b[0m\n\u001b[0;32m   3802\u001b[0m             \u001b[1;32mtry\u001b[0m\u001b[1;33m:\u001b[0m\u001b[1;33m\u001b[0m\u001b[1;33m\u001b[0m\u001b[0m\n\u001b[1;32m-> 3803\u001b[1;33m                 \u001b[1;32mreturn\u001b[0m \u001b[0mself\u001b[0m\u001b[1;33m.\u001b[0m\u001b[0m_engine\u001b[0m\u001b[1;33m.\u001b[0m\u001b[0mget_loc\u001b[0m\u001b[1;33m(\u001b[0m\u001b[0mcasted_key\u001b[0m\u001b[1;33m)\u001b[0m\u001b[1;33m\u001b[0m\u001b[1;33m\u001b[0m\u001b[0m\n\u001b[0m\u001b[0;32m   3804\u001b[0m             \u001b[1;32mexcept\u001b[0m \u001b[0mKeyError\u001b[0m \u001b[1;32mas\u001b[0m \u001b[0merr\u001b[0m\u001b[1;33m:\u001b[0m\u001b[1;33m\u001b[0m\u001b[1;33m\u001b[0m\u001b[0m\n",
      "\u001b[1;32mC:\\ProgramData\\Anaconda3\\lib\\site-packages\\pandas\\_libs\\index.pyx\u001b[0m in \u001b[0;36mpandas._libs.index.IndexEngine.get_loc\u001b[1;34m()\u001b[0m\n",
      "\u001b[1;32mC:\\ProgramData\\Anaconda3\\lib\\site-packages\\pandas\\_libs\\index.pyx\u001b[0m in \u001b[0;36mpandas._libs.index.IndexEngine.get_loc\u001b[1;34m()\u001b[0m\n",
      "\u001b[1;32mpandas\\_libs\\hashtable_class_helper.pxi\u001b[0m in \u001b[0;36mpandas._libs.hashtable.PyObjectHashTable.get_item\u001b[1;34m()\u001b[0m\n",
      "\u001b[1;32mpandas\\_libs\\hashtable_class_helper.pxi\u001b[0m in \u001b[0;36mpandas._libs.hashtable.PyObjectHashTable.get_item\u001b[1;34m()\u001b[0m\n",
      "\u001b[1;31mKeyError\u001b[0m: 'parameter_target'",
      "\nThe above exception was the direct cause of the following exception:\n",
      "\u001b[1;31mKeyError\u001b[0m                                  Traceback (most recent call last)",
      "\u001b[1;32m~\\AppData\\Local\\Temp/ipykernel_4720/1526991756.py\u001b[0m in \u001b[0;36m<module>\u001b[1;34m\u001b[0m\n\u001b[0;32m      9\u001b[0m \u001b[0mdirection\u001b[0m \u001b[1;33m=\u001b[0m \u001b[1;34m'long'\u001b[0m\u001b[1;33m\u001b[0m\u001b[1;33m\u001b[0m\u001b[0m\n\u001b[0;32m     10\u001b[0m \u001b[1;33m\u001b[0m\u001b[0m\n\u001b[1;32m---> 11\u001b[1;33m \u001b[0mtrades\u001b[0m \u001b[1;33m=\u001b[0m \u001b[0mx\u001b[0m\u001b[1;33m[\u001b[0m\u001b[1;33m(\u001b[0m\u001b[0mx\u001b[0m\u001b[1;33m[\u001b[0m\u001b[1;34m'direction'\u001b[0m\u001b[1;33m]\u001b[0m \u001b[1;33m==\u001b[0m \u001b[0mdirection\u001b[0m\u001b[1;33m)\u001b[0m \u001b[1;33m&\u001b[0m \u001b[1;33m(\u001b[0m\u001b[0mx\u001b[0m\u001b[1;33m[\u001b[0m\u001b[1;34m'rvol_5_SMA_15min'\u001b[0m\u001b[1;33m]\u001b[0m \u001b[1;33m<\u001b[0m \u001b[0mrvol\u001b[0m\u001b[1;33m)\u001b[0m \u001b[1;33m&\u001b[0m \u001b[1;33m(\u001b[0m\u001b[0mx\u001b[0m\u001b[1;33m[\u001b[0m\u001b[1;34m'parameter_target'\u001b[0m\u001b[1;33m]\u001b[0m \u001b[1;33m==\u001b[0m \u001b[0mparameter_target\u001b[0m\u001b[1;33m)\u001b[0m \u001b[1;33m&\u001b[0m \u001b[1;33m(\u001b[0m\u001b[0mx\u001b[0m\u001b[1;33m[\u001b[0m\u001b[1;34m'parameter_buffer'\u001b[0m\u001b[1;33m]\u001b[0m \u001b[1;33m==\u001b[0m \u001b[0mparameter_buffer\u001b[0m\u001b[1;33m)\u001b[0m \u001b[1;33m&\u001b[0m \u001b[1;33m(\u001b[0m\u001b[0mx\u001b[0m\u001b[1;33m[\u001b[0m\u001b[1;34m'parameter_stop'\u001b[0m\u001b[1;33m]\u001b[0m \u001b[1;33m==\u001b[0m \u001b[0mparameter_stop\u001b[0m\u001b[1;33m)\u001b[0m \u001b[1;33m&\u001b[0m \u001b[1;33m(\u001b[0m\u001b[0mx\u001b[0m\u001b[1;33m[\u001b[0m\u001b[1;34m'distance'\u001b[0m\u001b[1;33m]\u001b[0m \u001b[1;33m>=\u001b[0m \u001b[0mdistance\u001b[0m\u001b[1;33m)\u001b[0m\u001b[1;33m]\u001b[0m\u001b[1;33m\u001b[0m\u001b[1;33m\u001b[0m\u001b[0m\n\u001b[0m",
      "\u001b[1;32mC:\\ProgramData\\Anaconda3\\lib\\site-packages\\pandas\\core\\frame.py\u001b[0m in \u001b[0;36m__getitem__\u001b[1;34m(self, key)\u001b[0m\n\u001b[0;32m   3803\u001b[0m             \u001b[1;32mif\u001b[0m \u001b[0mself\u001b[0m\u001b[1;33m.\u001b[0m\u001b[0mcolumns\u001b[0m\u001b[1;33m.\u001b[0m\u001b[0mnlevels\u001b[0m \u001b[1;33m>\u001b[0m \u001b[1;36m1\u001b[0m\u001b[1;33m:\u001b[0m\u001b[1;33m\u001b[0m\u001b[1;33m\u001b[0m\u001b[0m\n\u001b[0;32m   3804\u001b[0m                 \u001b[1;32mreturn\u001b[0m \u001b[0mself\u001b[0m\u001b[1;33m.\u001b[0m\u001b[0m_getitem_multilevel\u001b[0m\u001b[1;33m(\u001b[0m\u001b[0mkey\u001b[0m\u001b[1;33m)\u001b[0m\u001b[1;33m\u001b[0m\u001b[1;33m\u001b[0m\u001b[0m\n\u001b[1;32m-> 3805\u001b[1;33m             \u001b[0mindexer\u001b[0m \u001b[1;33m=\u001b[0m \u001b[0mself\u001b[0m\u001b[1;33m.\u001b[0m\u001b[0mcolumns\u001b[0m\u001b[1;33m.\u001b[0m\u001b[0mget_loc\u001b[0m\u001b[1;33m(\u001b[0m\u001b[0mkey\u001b[0m\u001b[1;33m)\u001b[0m\u001b[1;33m\u001b[0m\u001b[1;33m\u001b[0m\u001b[0m\n\u001b[0m\u001b[0;32m   3806\u001b[0m             \u001b[1;32mif\u001b[0m \u001b[0mis_integer\u001b[0m\u001b[1;33m(\u001b[0m\u001b[0mindexer\u001b[0m\u001b[1;33m)\u001b[0m\u001b[1;33m:\u001b[0m\u001b[1;33m\u001b[0m\u001b[1;33m\u001b[0m\u001b[0m\n\u001b[0;32m   3807\u001b[0m                 \u001b[0mindexer\u001b[0m \u001b[1;33m=\u001b[0m \u001b[1;33m[\u001b[0m\u001b[0mindexer\u001b[0m\u001b[1;33m]\u001b[0m\u001b[1;33m\u001b[0m\u001b[1;33m\u001b[0m\u001b[0m\n",
      "\u001b[1;32mC:\\ProgramData\\Anaconda3\\lib\\site-packages\\pandas\\core\\indexes\\base.py\u001b[0m in \u001b[0;36mget_loc\u001b[1;34m(self, key, method, tolerance)\u001b[0m\n\u001b[0;32m   3803\u001b[0m                 \u001b[1;32mreturn\u001b[0m \u001b[0mself\u001b[0m\u001b[1;33m.\u001b[0m\u001b[0m_engine\u001b[0m\u001b[1;33m.\u001b[0m\u001b[0mget_loc\u001b[0m\u001b[1;33m(\u001b[0m\u001b[0mcasted_key\u001b[0m\u001b[1;33m)\u001b[0m\u001b[1;33m\u001b[0m\u001b[1;33m\u001b[0m\u001b[0m\n\u001b[0;32m   3804\u001b[0m             \u001b[1;32mexcept\u001b[0m \u001b[0mKeyError\u001b[0m \u001b[1;32mas\u001b[0m \u001b[0merr\u001b[0m\u001b[1;33m:\u001b[0m\u001b[1;33m\u001b[0m\u001b[1;33m\u001b[0m\u001b[0m\n\u001b[1;32m-> 3805\u001b[1;33m                 \u001b[1;32mraise\u001b[0m \u001b[0mKeyError\u001b[0m\u001b[1;33m(\u001b[0m\u001b[0mkey\u001b[0m\u001b[1;33m)\u001b[0m \u001b[1;32mfrom\u001b[0m \u001b[0merr\u001b[0m\u001b[1;33m\u001b[0m\u001b[1;33m\u001b[0m\u001b[0m\n\u001b[0m\u001b[0;32m   3806\u001b[0m             \u001b[1;32mexcept\u001b[0m \u001b[0mTypeError\u001b[0m\u001b[1;33m:\u001b[0m\u001b[1;33m\u001b[0m\u001b[1;33m\u001b[0m\u001b[0m\n\u001b[0;32m   3807\u001b[0m                 \u001b[1;31m# If we have a listlike key, _check_indexing_error will raise\u001b[0m\u001b[1;33m\u001b[0m\u001b[1;33m\u001b[0m\u001b[0m\n",
      "\u001b[1;31mKeyError\u001b[0m: 'parameter_target'"
     ]
    }
   ],
   "source": [
    "# GET AND DOWN_SELECT TRADES\n",
    "x = pandas.read_pickle(\"../output/trades_with_derivatives.pickle\")\n",
    "\n",
    "distance = 0.50\n",
    "rvol = 1.0\n",
    "parameter_buffer = 0.1\n",
    "parameter_stop = 0.3\n",
    "parameter_target = 0.3\n",
    "direction = 'long'\n",
    "\n",
    "trades = x[(x['direction'] == direction) & (x['rvol_5_SMA_15min'] < rvol) & (x['parameter_target'] == parameter_target) & (x['parameter_buffer'] == parameter_buffer) & (x['parameter_stop'] == parameter_stop) & (x['distance'] >= distance)]\n"
   ]
  },
  {
   "cell_type": "code",
   "execution_count": null,
   "id": "87f9be35",
   "metadata": {
    "scrolled": true
   },
   "outputs": [],
   "source": [
    "trades.head()"
   ]
  },
  {
   "cell_type": "code",
   "execution_count": null,
   "id": "016fa00e",
   "metadata": {},
   "outputs": [],
   "source": []
  },
  {
   "cell_type": "code",
   "execution_count": null,
   "id": "d18c12d5",
   "metadata": {},
   "outputs": [],
   "source": [
    "pos = trades[trades['r'] > 0]\n",
    "neg = trades[trades['r'] < 0]\n"
   ]
  },
  {
   "cell_type": "code",
   "execution_count": null,
   "id": "f78de93b",
   "metadata": {},
   "outputs": [],
   "source": [
    "pos.shape"
   ]
  },
  {
   "cell_type": "code",
   "execution_count": null,
   "id": "0ceb3e81",
   "metadata": {},
   "outputs": [],
   "source": [
    "neg.shape"
   ]
  },
  {
   "cell_type": "code",
   "execution_count": null,
   "id": "94c3b08f",
   "metadata": {},
   "outputs": [],
   "source": [
    "pos['tr_SMA_20min'].mean()"
   ]
  },
  {
   "cell_type": "code",
   "execution_count": null,
   "id": "78249ba9",
   "metadata": {},
   "outputs": [],
   "source": [
    "neg['tr_SMA_20min'].mean()"
   ]
  },
  {
   "cell_type": "code",
   "execution_count": null,
   "id": "bd5cb5c3",
   "metadata": {},
   "outputs": [],
   "source": [
    "z = np.arange(0, 1.5, 0.05)\n",
    "z = [round(q, 2) for q in z]\n",
    "# x = [*zip(x,x[1:])]\n",
    "\n",
    "pos.plot.hist(column = 'tr_SMA_20min', bins=z)"
   ]
  },
  {
   "cell_type": "code",
   "execution_count": null,
   "id": "c56f196a",
   "metadata": {},
   "outputs": [],
   "source": [
    "z = np.arange(0, 1.5, 0.05)\n",
    "z = [round(q, 2) for q in z]\n",
    "# x = [*zip(x,x[1:])]\n",
    "\n",
    "neg.plot.hist(column = 'tr_SMA_20min', bins=z)"
   ]
  },
  {
   "cell_type": "code",
   "execution_count": null,
   "id": "7d6e433e",
   "metadata": {},
   "outputs": [],
   "source": []
  },
  {
   "cell_type": "code",
   "execution_count": null,
   "id": "90ff83d2",
   "metadata": {},
   "outputs": [],
   "source": []
  },
  {
   "cell_type": "code",
   "execution_count": null,
   "id": "48a4e559",
   "metadata": {},
   "outputs": [],
   "source": []
  },
  {
   "cell_type": "code",
   "execution_count": null,
   "id": "e1968b69",
   "metadata": {},
   "outputs": [],
   "source": [
    "# GET AND DOWN_SELECT TRADES\n",
    "x = pandas.read_pickle(\"../output/trades_with_derivatives.pickle\")\n"
   ]
  },
  {
   "cell_type": "code",
   "execution_count": null,
   "id": "83a0f925",
   "metadata": {},
   "outputs": [],
   "source": [
    "import matplotlib.pyplot as plt\n",
    "%matplotlib inline\n"
   ]
  },
  {
   "cell_type": "code",
   "execution_count": null,
   "id": "9319918d",
   "metadata": {},
   "outputs": [],
   "source": []
  },
  {
   "cell_type": "markdown",
   "id": "afda85ee",
   "metadata": {},
   "source": [
    "# Trade count distribution over atr buckets"
   ]
  },
  {
   "cell_type": "code",
   "execution_count": null,
   "id": "97c738fe",
   "metadata": {},
   "outputs": [],
   "source": [
    "st = 0.5\n",
    "distance = 0.25\n",
    "rvol = 1.0\n",
    "parameter_buffer = 0.1\n",
    "parameter_stop = st\n",
    "parameter_target = st\n",
    "direction = 'long'\n",
    "trades = x[(x['direction'] == direction) & (x['rvol_5_SMA_15min'] <= rvol) & (x['parameter_target'] == parameter_target) & (x['parameter_buffer'] == parameter_buffer) & (x['parameter_stop'] == parameter_stop) & (x['distance'] >= distance)]\n",
    "\n",
    "pos = trades[trades['r'] > 0]\n",
    "neg = trades[trades['r'] < 0]\n",
    "\n",
    "z = np.arange(0, 1.75, 0.1)\n",
    "z = [round(q, 2) for q in z]\n",
    "\n",
    "# pos_vc = pos['tr_SMA_20min'].value_counts(bins = z, sort=False).iloc[::-1]\n",
    "# neg_vc = neg['tr_SMA_20min'].value_counts(bins = z, sort=False).iloc[::-1]\n",
    "\n",
    "bins = pandas.cut(pos['tr_SMA_20min'], z)\n",
    "gb = pos.groupby(bins)['max_distance'].mean().iloc[::-1]\n",
    "\n",
    "p = gb.plot(kind = 'barh')\n",
    "plt.show()"
   ]
  },
  {
   "cell_type": "code",
   "execution_count": null,
   "id": "61a56018",
   "metadata": {},
   "outputs": [],
   "source": []
  },
  {
   "cell_type": "code",
   "execution_count": null,
   "id": "f7b5c76e",
   "metadata": {},
   "outputs": [],
   "source": []
  },
  {
   "cell_type": "markdown",
   "id": "bf43f005",
   "metadata": {},
   "source": [
    "# Compute and populate MAE"
   ]
  },
  {
   "cell_type": "code",
   "execution_count": null,
   "id": "0f3ab388",
   "metadata": {},
   "outputs": [],
   "source": [
    "def calc_mae(df):\n",
    "    df = df[df['r'] > 0]\n",
    "    \n",
    "    if df.shape[0] == 0:\n",
    "        return float('nan')\n",
    "    \n",
    "    return df['parameter_stop'].min()\n",
    "\n",
    "def calc_all_mae(trades):\n",
    "    columns = ['entry_time', 'entry_price', 'target_price', 'parameter_buffer']\n",
    "    mae_groups = trades.groupby(columns).apply(calc_mae).to_frame('mae').reset_index()\n",
    "    \n",
    "    return trades.merge(mae_groups, how='left', left_on=columns, right_on=columns)"
   ]
  },
  {
   "cell_type": "code",
   "execution_count": null,
   "id": "fa807a21",
   "metadata": {},
   "outputs": [],
   "source": [
    "trades = x\n",
    "trades_with_mae = calc_all_mae(trades)"
   ]
  },
  {
   "cell_type": "code",
   "execution_count": null,
   "id": "03668264",
   "metadata": {},
   "outputs": [],
   "source": [
    "trades_with_mae.head()"
   ]
  },
  {
   "cell_type": "code",
   "execution_count": null,
   "id": "a1b71e9d",
   "metadata": {},
   "outputs": [],
   "source": []
  },
  {
   "cell_type": "code",
   "execution_count": null,
   "id": "03a331b4",
   "metadata": {},
   "outputs": [],
   "source": []
  },
  {
   "cell_type": "markdown",
   "id": "8c129a94",
   "metadata": {},
   "source": [
    "# ATR -> MAE"
   ]
  },
  {
   "cell_type": "code",
   "execution_count": null,
   "id": "1528ea96",
   "metadata": {
    "scrolled": false
   },
   "outputs": [],
   "source": [
    "# ATR -> MAE\n",
    "for st in np.arange(0.1, 2.05, 0.1):\n",
    "    st = round(st, 2)\n",
    "    distance = 0.50\n",
    "    rvol = 1.0\n",
    "    parameter_buffer = 0.1\n",
    "    parameter_stop = st\n",
    "    parameter_target = st\n",
    "    direction = 'long'\n",
    "    trades = trades_with_mae[(trades_with_mae['direction'] == direction) & (trades_with_mae['rvol_5_SMA_15min'] <= rvol) & (trades_with_mae['parameter_target'] == parameter_target) & (trades_with_mae['parameter_buffer'] == parameter_buffer) & (trades_with_mae['parameter_stop'] == parameter_stop) & (trades_with_mae['distance'] >= distance)]\n",
    "\n",
    "    pos = trades[trades['r'] > 0]\n",
    "    neg = trades[trades['r'] < 0]\n",
    "\n",
    "    z = np.arange(0, 1.75, 0.2)\n",
    "    z = [round(q, 2) for q in z]\n",
    "\n",
    "    # pos_vc = pos['tr_SMA_20min'].value_counts(bins = z, sort=False).iloc[::-1]\n",
    "    # neg_vc = neg['tr_SMA_20min'].value_counts(bins = z, sort=False).iloc[::-1]\n",
    "\n",
    "    bins = pandas.cut(pos['tr_SMA_20min'], z)\n",
    "    gb = pos.groupby(bins)['mae'].median().iloc[::-1]\n",
    "    \n",
    "    print(f'target: {st:0.2f}')\n",
    "    \n",
    "    p = gb.plot(kind = 'barh')\n",
    "    plt.show()\n"
   ]
  },
  {
   "cell_type": "code",
   "execution_count": null,
   "id": "391fc360",
   "metadata": {},
   "outputs": [],
   "source": []
  },
  {
   "cell_type": "code",
   "execution_count": null,
   "id": "a947f5d0",
   "metadata": {},
   "outputs": [],
   "source": []
  },
  {
   "cell_type": "code",
   "execution_count": null,
   "id": "5f609a5e",
   "metadata": {},
   "outputs": [],
   "source": []
  },
  {
   "cell_type": "code",
   "execution_count": null,
   "id": "e484486c",
   "metadata": {},
   "outputs": [],
   "source": []
  },
  {
   "cell_type": "markdown",
   "id": "95fa90a0",
   "metadata": {},
   "source": [
    "# ATR -> MFE"
   ]
  },
  {
   "cell_type": "code",
   "execution_count": null,
   "id": "75f8fa4d",
   "metadata": {
    "scrolled": false
   },
   "outputs": [],
   "source": [
    "for st in np.arange(0.1, 1.05, 0.1):\n",
    "    st = round(st, 2)\n",
    "    distance = 0.50\n",
    "    rvol = 1.0\n",
    "    parameter_buffer = 0.1\n",
    "    parameter_stop = st\n",
    "    parameter_target = st\n",
    "    direction = 'long'\n",
    "    trades = x[(x['direction'] == direction) & (x['rvol_5_SMA_15min'] <= rvol) & (x['parameter_target'] == parameter_target) & (x['parameter_buffer'] == parameter_buffer) & (x['parameter_stop'] == parameter_stop) & (x['distance'] >= distance)]\n",
    "\n",
    "    pos = trades[trades['r'] > 0]\n",
    "    neg = trades[trades['r'] < 0]\n",
    "\n",
    "    z = np.arange(0, 1.75, 0.2)\n",
    "    z = [round(q, 2) for q in z]\n",
    "\n",
    "    # pos_vc = pos['tr_SMA_20min'].value_counts(bins = z, sort=False).iloc[::-1]\n",
    "    # neg_vc = neg['tr_SMA_20min'].value_counts(bins = z, sort=False).iloc[::-1]\n",
    "\n",
    "    bins = pandas.cut(pos['tr_SMA_20min'], z)\n",
    "    gb = pos.groupby(bins)['max_distance'].median().iloc[::-1]\n",
    "    \n",
    "    print(f'stop: {st:0.2f}')\n",
    "    \n",
    "    p = gb.plot(kind = 'barh')\n",
    "    plt.show()\n"
   ]
  },
  {
   "cell_type": "code",
   "execution_count": null,
   "id": "a8fad044",
   "metadata": {},
   "outputs": [],
   "source": []
  },
  {
   "cell_type": "code",
   "execution_count": null,
   "id": "3d9879a3",
   "metadata": {},
   "outputs": [],
   "source": []
  },
  {
   "cell_type": "markdown",
   "id": "44420429",
   "metadata": {},
   "source": [
    "# Trade count over ATR"
   ]
  },
  {
   "cell_type": "code",
   "execution_count": null,
   "id": "644179d5",
   "metadata": {},
   "outputs": [],
   "source": [
    "distance = 0.25\n",
    "rvol = 4.0\n",
    "parameter_buffer = 0.1\n",
    "parameter_stop = 0.5\n",
    "parameter_target = 0.5\n",
    "direction = 'long'\n",
    "trades = x[(x['direction'] == direction) & (x['rvol_5_SMA_15min'] <= rvol) & (x['parameter_target'] == parameter_target) & (x['parameter_buffer'] == parameter_buffer) & (x['parameter_stop'] == parameter_stop) & (x['distance'] >= distance)]\n",
    "\n",
    "z = np.arange(0, 1.5, 0.1)\n",
    "z = [round(q, 2) for q in z]\n",
    "\n",
    "trades_vc = trades['tr_SMA_20min'].value_counts(bins = z, sort=False).iloc[::-1]\n",
    "\n",
    "trades_vc.plot(kind = 'barh')\n",
    "plt.show()\n",
    "print()\n"
   ]
  },
  {
   "cell_type": "code",
   "execution_count": null,
   "id": "465b8a82",
   "metadata": {},
   "outputs": [],
   "source": []
  },
  {
   "cell_type": "code",
   "execution_count": null,
   "id": "40b1de17",
   "metadata": {},
   "outputs": [],
   "source": []
  },
  {
   "cell_type": "markdown",
   "id": "a2a0356e",
   "metadata": {},
   "source": [
    "# ATR -> Winrate (with constant target)"
   ]
  },
  {
   "cell_type": "code",
   "execution_count": null,
   "id": "f8edb508",
   "metadata": {
    "scrolled": false
   },
   "outputs": [],
   "source": [
    "for st in np.arange(0.1, 1.05, 0.1):\n",
    "    st = round(st, 2)\n",
    "    \n",
    "    distance = 0.25\n",
    "    rvol = 1.0\n",
    "    parameter_buffer = 0.1\n",
    "    parameter_stop = st\n",
    "    parameter_target = 0.5\n",
    "    direction = 'long'\n",
    "    trades = x[(x['direction'] == direction) & (x['rvol_5_SMA_15min'] <= rvol) & (x['parameter_target'] == parameter_target) & (x['parameter_buffer'] == parameter_buffer) & (x['parameter_stop'] == parameter_stop) & (x['distance'] >= distance)]\n",
    "\n",
    "    pos = trades[trades['r'] > 0]\n",
    "    neg = trades[trades['r'] < 0]\n",
    "\n",
    "    z = np.arange(0.1, 0.65, 0.1)\n",
    "    z = [round(q, 2) for q in z]\n",
    "\n",
    "    pos_vc = pos['tr_SMA_20min'].value_counts(bins = z, sort=False).iloc[::-1]\n",
    "    neg_vc = neg['tr_SMA_20min'].value_counts(bins = z, sort=False).iloc[::-1]\n",
    "\n",
    "    ratio = len(pos) / len(neg) if len(neg) > 0 else 1\n",
    "    delta = (pos_vc / (neg_vc + pos_vc))\n",
    "    winrate = (pos.shape[0] / (neg.shape[0] + pos.shape[0]))\n",
    "    print(f'stop: {st:0.2f} -> winrate: {winrate:0.2%} ttl: {trades.shape[0]:3} pos_neg_ttl_ratio:{pos.shape[0]:3}/{neg.shape[0]}')\n",
    "    p = delta.plot(kind = 'barh')\n",
    "    p.axvline(0.5, color=\"red\", linestyle=\"--\")\n",
    "    plt.show()\n",
    "    print()\n"
   ]
  },
  {
   "cell_type": "markdown",
   "id": "caeb66e4",
   "metadata": {},
   "source": [
    "# ATR -> Winrate"
   ]
  },
  {
   "cell_type": "code",
   "execution_count": null,
   "id": "5812f9f3",
   "metadata": {
    "scrolled": false
   },
   "outputs": [],
   "source": [
    "for st in np.arange(0.1, 1.05, 0.1):\n",
    "    st = round(st, 2)\n",
    "    \n",
    "    distance = 0.50\n",
    "    rvol = 1.0\n",
    "    parameter_buffer = 0.1\n",
    "    parameter_stop = st\n",
    "    parameter_target = st\n",
    "    direction = 'long'\n",
    "    trades = x[(x['direction'] == direction) & (x['rvol_5_SMA_15min'] <= rvol) & (x['parameter_target'] == parameter_target) & (x['parameter_buffer'] == parameter_buffer) & (x['parameter_stop'] == parameter_stop) & (x['distance'] >= distance)]\n",
    "\n",
    "    pos = trades[trades['r'] > 0]\n",
    "    neg = trades[trades['r'] < 0]\n",
    "\n",
    "    z = np.arange(0, 1.75, 0.2)\n",
    "    z = [round(q, 2) for q in z]\n",
    "\n",
    "    pos_vc = pos['tr_SMA_20min'].value_counts(bins = z, sort=False).iloc[::-1]\n",
    "    neg_vc = neg['tr_SMA_20min'].value_counts(bins = z, sort=False).iloc[::-1]\n",
    "\n",
    "    ratio = len(pos) / len(neg) if len(neg) > 0 else 1\n",
    "    delta = (pos_vc / (neg_vc + pos_vc))\n",
    "    winrate = (pos.shape[0] / (neg.shape[0] + pos.shape[0]))\n",
    "    print(f'stop & target: {st:0.2f} -> winrate: {winrate:0.2%} ttl: {trades.shape[0]:3} pos_neg_ttl_ratio:{pos.shape[0]:3}/{neg.shape[0]}')\n",
    "    p = delta.plot(kind = 'barh')\n",
    "    p.axvline(0.5, color=\"red\", linestyle=\"--\")\n",
    "    plt.show()\n",
    "    print()\n"
   ]
  },
  {
   "cell_type": "code",
   "execution_count": null,
   "id": "8b6e2ff1",
   "metadata": {},
   "outputs": [],
   "source": []
  },
  {
   "cell_type": "code",
   "execution_count": null,
   "id": "1966dd73",
   "metadata": {},
   "outputs": [],
   "source": []
  },
  {
   "cell_type": "markdown",
   "id": "4d7beb8a",
   "metadata": {},
   "source": [
    "# Get most optimal trade from every combination of stop and target"
   ]
  },
  {
   "cell_type": "code",
   "execution_count": null,
   "id": "4cb0ad1b",
   "metadata": {},
   "outputs": [],
   "source": [
    "def calc_mae(df):\n",
    "    df = df[df['r'] > 0]\n",
    "    \n",
    "    if df.shape[0] == 0:\n",
    "        return float('nan')\n",
    "    \n",
    "    return df['parameter_stop'].min()\n",
    "\n",
    "def calc_all_mae(trades):\n",
    "    columns = ['entry_time', 'entry_price', 'target_price', 'parameter_buffer']\n",
    "    mae_groups = trades.groupby(columns).apply(calc_mae).to_frame('mae').reset_index()\n",
    "    \n",
    "    return trades.merge(mae_groups, how='left', left_on=columns, right_on=columns)\n",
    "\n",
    "\n",
    "# PARAMS\n",
    "distance = 0.25\n",
    "rvol = 1.0\n",
    "parameter_buffer = 0.1\n",
    "direction = 'long'\n",
    "# END PARAMS\n",
    "\n",
    "trades = x[(x['direction'] == direction) & (x['rvol_5_SMA_15min'] <= rvol) & (x['parameter_buffer'] == parameter_buffer) & (x['distance'] >= distance)]\n",
    "trades = trades[~trades['time_close']]\n",
    "trades = trades[trades['r'] > 0]\n",
    "trades = trades[trades['r'] > 0.3]\n",
    "trades = trades[trades['parameter_stop'] > 0.3]\n",
    "# trades = trades[trades['r'] <= 5]\n",
    "\n",
    "columns = ['entry_time', 'entry_price', 'parameter_buffer']\n",
    "best = trades.loc[trades.groupby(columns)['r'].idxmax()]\n"
   ]
  },
  {
   "cell_type": "code",
   "execution_count": null,
   "id": "63b2144f",
   "metadata": {},
   "outputs": [],
   "source": []
  },
  {
   "cell_type": "code",
   "execution_count": null,
   "id": "1b11d824",
   "metadata": {},
   "outputs": [],
   "source": []
  },
  {
   "cell_type": "code",
   "execution_count": null,
   "id": "459f1046",
   "metadata": {},
   "outputs": [],
   "source": []
  },
  {
   "cell_type": "code",
   "execution_count": null,
   "id": "4c368fd1",
   "metadata": {},
   "outputs": [],
   "source": [
    "best[best['tr_SMA_20min'] < 0.8].plot.scatter(x='tr_SMA_20min', y = 'parameter_stop')"
   ]
  },
  {
   "cell_type": "code",
   "execution_count": null,
   "id": "f8b3f8ff",
   "metadata": {},
   "outputs": [],
   "source": [
    "best[best['tr_SMA_20min'] < 0.8].plot.scatter(x='tr_SMA_20min', y = 'parameter_target')"
   ]
  },
  {
   "cell_type": "code",
   "execution_count": null,
   "id": "b064f358",
   "metadata": {},
   "outputs": [],
   "source": [
    "best[best['tr_SMA_20min'] < 0.8].plot.scatter(x='tr_SMA_20min', y = 'target_r')"
   ]
  },
  {
   "cell_type": "code",
   "execution_count": null,
   "id": "314fc769",
   "metadata": {},
   "outputs": [],
   "source": [
    "print(best['tr_SMA_20min'].corr(best['parameter_target']))\n",
    "print(best['tr_SMA_20min'].corr(best['parameter_stop']))\n",
    "print(best['tr_SMA_20min'].corr(best['target_r']))"
   ]
  },
  {
   "cell_type": "code",
   "execution_count": null,
   "id": "477c7fff",
   "metadata": {},
   "outputs": [],
   "source": [
    "print(best['rvol_5_SMA_15min'].corr(best['tr_SMA_20min']))"
   ]
  },
  {
   "cell_type": "code",
   "execution_count": null,
   "id": "9a74d61b",
   "metadata": {},
   "outputs": [],
   "source": [
    "print(best['rvol_5_SMA_15min'].corr(best['parameter_target']))\n",
    "print(best['rvol_5_SMA_15min'].corr(best['parameter_stop']))\n",
    "print(best['rvol_5_SMA_15min'].corr(best['target_r']))"
   ]
  },
  {
   "cell_type": "code",
   "execution_count": null,
   "id": "9224f15b",
   "metadata": {},
   "outputs": [],
   "source": [
    "print((best['tr_SMA_20min'] / best['rvol_5_SMA_15min']).corr(best['parameter_target']))\n",
    "print((best['tr_SMA_20min'] / best['rvol_5_SMA_15min']).corr(best['parameter_stop']))\n",
    "print((best['tr_SMA_20min'] / best['rvol_5_SMA_15min']).corr(best['target_r']))"
   ]
  },
  {
   "cell_type": "code",
   "execution_count": null,
   "id": "f418f347",
   "metadata": {},
   "outputs": [],
   "source": []
  },
  {
   "cell_type": "code",
   "execution_count": null,
   "id": "fc79fe9c",
   "metadata": {},
   "outputs": [],
   "source": [
    "best['atr/rvol'] = best['tr_SMA_20min'] / best['rvol_5_SMA_15min']\n",
    "best[best['atr/rvol'] < 1].plot.scatter(x='atr/rvol', y = 'parameter_target')"
   ]
  },
  {
   "cell_type": "code",
   "execution_count": null,
   "id": "356a2747",
   "metadata": {},
   "outputs": [],
   "source": []
  },
  {
   "cell_type": "code",
   "execution_count": null,
   "id": "7d1e21be",
   "metadata": {},
   "outputs": [],
   "source": []
  },
  {
   "cell_type": "code",
   "execution_count": null,
   "id": "d2a24e88",
   "metadata": {},
   "outputs": [],
   "source": []
  },
  {
   "cell_type": "markdown",
   "id": "0fed3292",
   "metadata": {},
   "source": [
    "# Test correlations with outlier filtering"
   ]
  },
  {
   "cell_type": "code",
   "execution_count": null,
   "id": "6349ec47",
   "metadata": {},
   "outputs": [],
   "source": [
    "def reduce(df, column, quantile):\n",
    "    q_low = best[column].quantile(quantile)\n",
    "    q_hi  = best[column].quantile(1 - quantile)\n",
    "\n",
    "    best_reduced = best[(best[column] < q_hi) & (best[column] > q_low)]\n",
    "\n",
    "    reduction_rate = 1 - (best_reduced.shape[0] / best.shape[0])\n",
    "    print(f'{reduction_rate:0.2%} reduction')\n",
    "    return best_reduced"
   ]
  },
  {
   "cell_type": "code",
   "execution_count": null,
   "id": "69956d8f",
   "metadata": {},
   "outputs": [],
   "source": [
    "best_reduced = reduce(best, 'parameter_target', quantile = 0.01)\n",
    "# best_reduced = reduce(best_reduced, 'parameter_stop', quantile = 0.01)\n",
    "# best_reduced = reduce(best_reduced, 'target_r', quantile = 0.01)\n",
    "# best_reduced = reduce(best_reduced, 'tr_SMA_20min', quantile = 0.01)"
   ]
  },
  {
   "cell_type": "code",
   "execution_count": null,
   "id": "78f73f68",
   "metadata": {},
   "outputs": [],
   "source": [
    "best_reduced[best_reduced['tr_SMA_20min'] < 0.8].plot.scatter(x='tr_SMA_20min', y = 'parameter_stop')"
   ]
  },
  {
   "cell_type": "code",
   "execution_count": null,
   "id": "6ee466b8",
   "metadata": {},
   "outputs": [],
   "source": [
    "best_reduced[best_reduced['tr_SMA_20min'] < 0.8].plot.scatter(x='tr_SMA_20min', y = 'parameter_target')"
   ]
  },
  {
   "cell_type": "code",
   "execution_count": null,
   "id": "d853e064",
   "metadata": {},
   "outputs": [],
   "source": [
    "best_reduced[best_reduced['tr_SMA_20min'] < 0.8].plot.scatter(x='tr_SMA_20min', y = 'target_r')"
   ]
  },
  {
   "cell_type": "code",
   "execution_count": null,
   "id": "141d8cde",
   "metadata": {},
   "outputs": [],
   "source": [
    "print(best_reduced['tr_SMA_20min'].corr(best_reduced['parameter_target']))\n",
    "print(best_reduced['tr_SMA_20min'].corr(best_reduced['parameter_stop']))\n",
    "print(best_reduced['tr_SMA_20min'].corr(best_reduced['target_r']))"
   ]
  },
  {
   "cell_type": "code",
   "execution_count": null,
   "id": "eaa984e2",
   "metadata": {},
   "outputs": [],
   "source": [
    "print(best_reduced['rvol_5_SMA_15min'].corr(best_reduced['tr_SMA_20min']))"
   ]
  },
  {
   "cell_type": "code",
   "execution_count": null,
   "id": "3a21ed1b",
   "metadata": {},
   "outputs": [],
   "source": [
    "print(best_reduced['rvol_5_SMA_15min'].corr(best_reduced['parameter_target']))\n",
    "print(best_reduced['rvol_5_SMA_15min'].corr(best_reduced['parameter_stop']))\n",
    "print(best_reduced['rvol_5_SMA_15min'].corr(best_reduced['target_r']))"
   ]
  },
  {
   "cell_type": "code",
   "execution_count": null,
   "id": "ba1797a1",
   "metadata": {},
   "outputs": [],
   "source": [
    "print((best_reduced['tr_SMA_20min'] / best_reduced['rvol_5_SMA_15min']).corr(best_reduced['parameter_target']))\n",
    "print((best_reduced['tr_SMA_20min'] / best_reduced['rvol_5_SMA_15min']).corr(best_reduced['parameter_stop']))\n",
    "print((best_reduced['tr_SMA_20min'] / best_reduced['rvol_5_SMA_15min']).corr(best_reduced['target_r']))"
   ]
  },
  {
   "cell_type": "code",
   "execution_count": null,
   "id": "2471a437",
   "metadata": {},
   "outputs": [],
   "source": []
  },
  {
   "cell_type": "code",
   "execution_count": null,
   "id": "df2afd23",
   "metadata": {},
   "outputs": [],
   "source": [
    "best_reduced['atr/rvol'] = best_reduced['tr_SMA_20min'] / best_reduced['rvol_5_SMA_15min']\n",
    "best_reduced[best_reduced['atr/rvol'] < 1].plot.scatter(x='atr/rvol', y = 'parameter_target')"
   ]
  },
  {
   "cell_type": "code",
   "execution_count": null,
   "id": "1af298f7",
   "metadata": {},
   "outputs": [],
   "source": []
  },
  {
   "cell_type": "code",
   "execution_count": null,
   "id": "d813ee3c",
   "metadata": {},
   "outputs": [],
   "source": []
  },
  {
   "cell_type": "markdown",
   "id": "a05ae96e",
   "metadata": {},
   "source": [
    "# Regression"
   ]
  },
  {
   "cell_type": "code",
   "execution_count": null,
   "id": "54b361c2",
   "metadata": {},
   "outputs": [],
   "source": [
    "from sklearn.linear_model import LinearRegression"
   ]
  },
  {
   "cell_type": "code",
   "execution_count": null,
   "id": "fb2c9012",
   "metadata": {
    "scrolled": true
   },
   "outputs": [],
   "source": [
    "x = best_reduced[['tr_SMA_20min']].values.reshape(-1,1)\n",
    "y = best_reduced[['parameter_target']].values.reshape(-1,1)\n",
    "\n",
    "regression = LinearRegression().fit(x, y)\n",
    "target_prediction = regression.predict(x)\n",
    "\n",
    "plt.scatter(x, y, color = 'red')\n",
    "plt.plot(x, target_prediction, color = 'blue')\n",
    "plt.title('parameter_target vs tr_SMA_20min')\n",
    "plt.xlabel('tr_SMA_20min')\n",
    "plt.ylabel('parameter_target')\n",
    "plt.show()\n",
    "print(f'{regression.coef_[0, 0]:0.2f}*atr + {regression.intercept_[0]:0.2f}')\n"
   ]
  },
  {
   "cell_type": "code",
   "execution_count": null,
   "id": "e5684a31",
   "metadata": {},
   "outputs": [],
   "source": [
    "x = best_reduced[['tr_SMA_20min']].values.reshape(-1,1)\n",
    "y = best_reduced[['parameter_stop']].values.reshape(-1,1)\n",
    "\n",
    "regression = LinearRegression().fit(x, y)\n",
    "target_prediction = regression.predict(x)\n",
    "\n",
    "plt.scatter(x, y, color = 'red')\n",
    "plt.plot(x, target_prediction, color = 'blue')\n",
    "plt.title('parameter_stop vs tr_SMA_20min')\n",
    "plt.xlabel('tr_SMA_20min')\n",
    "plt.ylabel('parameter_stop')\n",
    "plt.show()\n",
    "print(f'{regression.coef_[0, 0]:0.2f}*atr + {regression.intercept_[0]:0.2f}')\n"
   ]
  },
  {
   "cell_type": "code",
   "execution_count": null,
   "id": "da982c48",
   "metadata": {},
   "outputs": [],
   "source": []
  },
  {
   "cell_type": "code",
   "execution_count": null,
   "id": "226460cf",
   "metadata": {},
   "outputs": [],
   "source": [
    "# TMP"
   ]
  },
  {
   "cell_type": "code",
   "execution_count": null,
   "id": "c07435f1",
   "metadata": {},
   "outputs": [],
   "source": [
    "target_prediction"
   ]
  },
  {
   "cell_type": "code",
   "execution_count": null,
   "id": "6fb1411f",
   "metadata": {},
   "outputs": [],
   "source": []
  },
  {
   "cell_type": "code",
   "execution_count": null,
   "id": "7e774caa",
   "metadata": {},
   "outputs": [],
   "source": []
  },
  {
   "cell_type": "markdown",
   "id": "0af56cde",
   "metadata": {},
   "source": [
    "# volume_SMA_20min CORRELATIONS"
   ]
  },
  {
   "cell_type": "code",
   "execution_count": null,
   "id": "a97c0eb4",
   "metadata": {},
   "outputs": [],
   "source": [
    "best['volume_SMA_20min_x'] = best['volume_SMA_20min'] / 241150"
   ]
  },
  {
   "cell_type": "code",
   "execution_count": null,
   "id": "9a649ddd",
   "metadata": {
    "scrolled": true
   },
   "outputs": [],
   "source": [
    "best.head()"
   ]
  },
  {
   "cell_type": "code",
   "execution_count": null,
   "id": "0bc265e0",
   "metadata": {},
   "outputs": [],
   "source": [
    "best[best['tr_SMA_20min'] < 0.8].plot.scatter(x='volume_SMA_20min_x', y = 'parameter_stop')"
   ]
  },
  {
   "cell_type": "code",
   "execution_count": null,
   "id": "ad1da77c",
   "metadata": {},
   "outputs": [],
   "source": [
    "best[best['tr_SMA_20min'] < 0.8].plot.scatter(x='volume_SMA_20min_x', y = 'parameter_target')"
   ]
  },
  {
   "cell_type": "code",
   "execution_count": null,
   "id": "2ee31dd4",
   "metadata": {},
   "outputs": [],
   "source": [
    "best[best['tr_SMA_20min'] < 0.8].plot.scatter(x='volume_SMA_20min_x', y = 'target_r')"
   ]
  },
  {
   "cell_type": "code",
   "execution_count": null,
   "id": "e47a5fb9",
   "metadata": {},
   "outputs": [],
   "source": [
    "print(best['volume_SMA_20min_x'].corr(best['parameter_target']))\n",
    "print(best['volume_SMA_20min_x'].corr(best['parameter_stop']))\n",
    "print(best['volume_SMA_20min_x'].corr(best['target_r']))"
   ]
  },
  {
   "cell_type": "code",
   "execution_count": null,
   "id": "aa40a6cd",
   "metadata": {},
   "outputs": [],
   "source": [
    "print(best['volume_SMA_20min_x'].corr(best['tr_SMA_20min']))"
   ]
  },
  {
   "cell_type": "code",
   "execution_count": null,
   "id": "3c7e3caa",
   "metadata": {},
   "outputs": [],
   "source": [
    "best[best['tr_SMA_20min'] < 0.9].plot.scatter(x='volume_SMA_20min_x', y = 'tr_SMA_20min')"
   ]
  },
  {
   "cell_type": "code",
   "execution_count": null,
   "id": "b5e52703",
   "metadata": {},
   "outputs": [],
   "source": [
    "print((best['tr_SMA_20min'] * best['volume_SMA_20min_x']).corr(best['parameter_target']))\n",
    "print((best['tr_SMA_20min'] * best['volume_SMA_20min_x']).corr(best['parameter_stop']))\n",
    "print((best['tr_SMA_20min'] * best['volume_SMA_20min_x']).corr(best['target_r']))"
   ]
  },
  {
   "cell_type": "code",
   "execution_count": null,
   "id": "3f0891fe",
   "metadata": {},
   "outputs": [],
   "source": []
  },
  {
   "cell_type": "code",
   "execution_count": null,
   "id": "cf79d54f",
   "metadata": {},
   "outputs": [],
   "source": [
    "best['atr/vol'] = best['tr_SMA_20min'] / best['volume_SMA_20min_x']\n",
    "best[best['atr/vol'] < 1].plot.scatter(x='atr/vol', y = 'parameter_target')"
   ]
  },
  {
   "cell_type": "code",
   "execution_count": null,
   "id": "157dfa47",
   "metadata": {},
   "outputs": [],
   "source": []
  },
  {
   "cell_type": "code",
   "execution_count": null,
   "id": "3521b99c",
   "metadata": {},
   "outputs": [],
   "source": []
  },
  {
   "cell_type": "markdown",
   "id": "eea6e861",
   "metadata": {},
   "source": [
    "# distance CORRELATIONS"
   ]
  },
  {
   "cell_type": "code",
   "execution_count": null,
   "id": "2ccc134a",
   "metadata": {},
   "outputs": [],
   "source": [
    "best[best['tr_SMA_20min'] < 0.8].plot.scatter(x='distance', y = 'parameter_stop')"
   ]
  },
  {
   "cell_type": "code",
   "execution_count": null,
   "id": "b83e7682",
   "metadata": {},
   "outputs": [],
   "source": [
    "best[best['tr_SMA_20min'] < 0.8].plot.scatter(x='distance', y = 'parameter_target')"
   ]
  },
  {
   "cell_type": "code",
   "execution_count": null,
   "id": "5cdc3965",
   "metadata": {},
   "outputs": [],
   "source": [
    "best[best['tr_SMA_20min'] < 0.8].plot.scatter(x='distance', y = 'target_r')"
   ]
  },
  {
   "cell_type": "code",
   "execution_count": null,
   "id": "019dc631",
   "metadata": {},
   "outputs": [],
   "source": [
    "print(best['distance'].corr(best['parameter_target']))\n",
    "print(best['distance'].corr(best['parameter_stop']))\n",
    "print(best['distance'].corr(best['target_r']))"
   ]
  },
  {
   "cell_type": "code",
   "execution_count": null,
   "id": "0241f8aa",
   "metadata": {},
   "outputs": [],
   "source": [
    "print(best['distance'].corr(best['tr_SMA_20min']))"
   ]
  },
  {
   "cell_type": "code",
   "execution_count": null,
   "id": "d54cfe13",
   "metadata": {},
   "outputs": [],
   "source": [
    "best[(best['tr_SMA_20min'] < 0.9) & (best['distance'] < 3.5)].plot.scatter(x='distance', y = 'tr_SMA_20min')"
   ]
  },
  {
   "cell_type": "code",
   "execution_count": null,
   "id": "899f1755",
   "metadata": {},
   "outputs": [],
   "source": [
    "print((best['distance'] * best['volume_SMA_20min_x']).corr(best['parameter_target']))\n",
    "print((best['distance'] * best['volume_SMA_20min_x']).corr(best['parameter_stop']))\n",
    "print((best['distance'] * best['volume_SMA_20min_x']).corr(best['target_r']))"
   ]
  },
  {
   "cell_type": "code",
   "execution_count": null,
   "id": "52826002",
   "metadata": {},
   "outputs": [],
   "source": []
  },
  {
   "cell_type": "code",
   "execution_count": null,
   "id": "c3ce6920",
   "metadata": {},
   "outputs": [],
   "source": [
    "best['distance/vol'] = best['distance'] / best['volume_SMA_20min_x']\n",
    "best[best['distance/vol'] < 1].plot.scatter(x='distance/vol', y = 'parameter_target')"
   ]
  },
  {
   "cell_type": "code",
   "execution_count": null,
   "id": "ef68a829",
   "metadata": {},
   "outputs": [],
   "source": []
  },
  {
   "cell_type": "code",
   "execution_count": null,
   "id": "fd2d7090",
   "metadata": {},
   "outputs": [],
   "source": []
  },
  {
   "cell_type": "code",
   "execution_count": null,
   "id": "5c3a60b0",
   "metadata": {},
   "outputs": [],
   "source": []
  },
  {
   "cell_type": "code",
   "execution_count": null,
   "id": "22f179d8",
   "metadata": {},
   "outputs": [],
   "source": []
  },
  {
   "cell_type": "code",
   "execution_count": null,
   "id": "a2006383",
   "metadata": {},
   "outputs": [],
   "source": []
  },
  {
   "cell_type": "code",
   "execution_count": null,
   "id": "8f5540ed",
   "metadata": {},
   "outputs": [],
   "source": []
  },
  {
   "cell_type": "code",
   "execution_count": null,
   "id": "e5e16efb",
   "metadata": {},
   "outputs": [],
   "source": []
  },
  {
   "cell_type": "markdown",
   "id": "a93d307c",
   "metadata": {},
   "source": [
    "# OPTIMAL BUCKETED VISUALIZATION"
   ]
  },
  {
   "cell_type": "code",
   "execution_count": null,
   "id": "0310c2ca",
   "metadata": {},
   "outputs": [],
   "source": [
    "best.head()"
   ]
  },
  {
   "cell_type": "code",
   "execution_count": null,
   "id": "c3bd6edf",
   "metadata": {},
   "outputs": [],
   "source": [
    "def calc_mae(df):\n",
    "    df = df[df['r'] > 0]\n",
    "    \n",
    "    if df.shape[0] == 0:\n",
    "        return float('nan')\n",
    "    \n",
    "    return df['parameter_stop'].min()\n",
    "\n",
    "def calc_all_mae(trades):\n",
    "    columns = ['entry_time', 'entry_price', 'target_price', 'parameter_buffer']\n",
    "    mae_groups = trades.groupby(columns).apply(calc_mae).to_frame('mae').reset_index()\n",
    "    \n",
    "    return trades.merge(mae_groups, how='left', left_on=columns, right_on=columns)\n",
    "\n",
    "\n",
    "# PARAMS\n",
    "distance = 0.25\n",
    "rvol = 1.0\n",
    "parameter_buffer = 0.1\n",
    "direction = 'long'\n",
    "# END PARAMS\n",
    "\n",
    "trades = x[(x['direction'] == direction) & (x['rvol_5_SMA_15min'] <= rvol) & (x['parameter_buffer'] == parameter_buffer) & (x['distance'] >= distance)]\n",
    "trades = trades[~trades['time_close']]\n",
    "trades = trades[trades['r'] > 0.3]\n",
    "trades = trades[trades['r'] <= 10]\n",
    "trades = calc_all_mae(trades)\n",
    "\n",
    "columns = ['entry_time', 'entry_price', 'parameter_buffer']\n",
    "best = trades.loc[trades.groupby(columns)['r'].idxmax()]\n",
    "\n",
    "\n",
    "z = np.arange(0, 1.75, 0.2)\n",
    "z = [round(q, 2) for q in z]\n",
    "\n",
    "# pos_vc = pos['tr_SMA_20min'].value_counts(bins = z, sort=False).iloc[::-1]\n",
    "# neg_vc = neg['tr_SMA_20min'].value_counts(bins = z, sort=False).iloc[::-1]\n",
    "\n",
    "bins = pandas.cut(best['tr_SMA_20min'], z)\n",
    "gb = best.groupby(bins)['max_distance'].median().iloc[::-1]\n",
    "\n",
    "p = gb.plot(kind = 'barh')\n",
    "plt.show()\n"
   ]
  },
  {
   "cell_type": "code",
   "execution_count": null,
   "id": "1d48f784",
   "metadata": {},
   "outputs": [],
   "source": []
  },
  {
   "cell_type": "code",
   "execution_count": null,
   "id": "db497f98",
   "metadata": {},
   "outputs": [],
   "source": []
  },
  {
   "cell_type": "code",
   "execution_count": null,
   "id": "e5f5b4b3",
   "metadata": {},
   "outputs": [],
   "source": []
  },
  {
   "cell_type": "code",
   "execution_count": null,
   "id": "979e5da9",
   "metadata": {},
   "outputs": [],
   "source": []
  },
  {
   "cell_type": "code",
   "execution_count": null,
   "id": "9f8b54bf",
   "metadata": {},
   "outputs": [],
   "source": []
  },
  {
   "cell_type": "code",
   "execution_count": null,
   "id": "021b635d",
   "metadata": {},
   "outputs": [],
   "source": []
  },
  {
   "cell_type": "code",
   "execution_count": null,
   "id": "3dbec381",
   "metadata": {},
   "outputs": [],
   "source": []
  },
  {
   "cell_type": "code",
   "execution_count": null,
   "id": "a4ffb730",
   "metadata": {},
   "outputs": [],
   "source": []
  },
  {
   "cell_type": "code",
   "execution_count": null,
   "id": "f4e8dd37",
   "metadata": {},
   "outputs": [],
   "source": []
  },
  {
   "cell_type": "code",
   "execution_count": null,
   "id": "67fc27ad",
   "metadata": {},
   "outputs": [],
   "source": [
    "# BACKUP\n",
    "# for st in np.arange(0.1, 1.05, 0.1):\n",
    "#     st = round(st, 2)\n",
    "    \n",
    "#     distance = 0.50\n",
    "#     rvol = 1.0\n",
    "#     parameter_buffer = 0.1\n",
    "#     parameter_stop = st\n",
    "#     parameter_target = st\n",
    "#     direction = 'long'\n",
    "#     trades = x[(x['direction'] == direction) & (x['rvol_5_SMA_15min'] <= rvol) & (x['parameter_target'] == parameter_target) & (x['parameter_buffer'] == parameter_buffer) & (x['parameter_stop'] == parameter_stop) & (x['distance'] >= distance)]\n",
    "\n",
    "#     pos = trades[trades['r'] > 0]\n",
    "#     neg = trades[trades['r'] < 0]\n",
    "\n",
    "#     z = np.arange(0, 1.5, 0.2)\n",
    "#     z = [round(q, 2) for q in z]\n",
    "\n",
    "#     pos_vc = pos['tr_SMA_20min'].value_counts(bins = z, sort=False).iloc[::-1]\n",
    "#     neg_vc = neg['tr_SMA_20min'].value_counts(bins = z, sort=False).iloc[::-1]\n",
    "\n",
    "#     ratio = len(pos) / len(neg) if len(neg) > 0 else 1\n",
    "#     delta = pos_vc - (neg_vc * ratio)\n",
    "#     delta.plot(kind = 'barh')\n",
    "#     plt.show()\n",
    "#     winrate = (pos.shape[0] / (neg.shape[0] + pos.shape[0]))\n",
    "#     print(f'stop & target: {st:0.2f} -> winrate: {winrate:0.2%} ttl: {trades.shape[0]:3} pos_neg_ttl_ratio:{pos.shape[0]:3}/{neg.shape[0]}')\n"
   ]
  },
  {
   "cell_type": "code",
   "execution_count": null,
   "id": "f60398ef",
   "metadata": {},
   "outputs": [],
   "source": [
    "\n",
    "distance = 0.50\n",
    "rvol = 1.0\n",
    "parameter_buffer = 0.1\n",
    "parameter_stop = 0.3\n",
    "parameter_target = 0.3\n",
    "direction = 'long'\n",
    "\n",
    "trades = x[(x['direction'] == direction) & (x['rvol_5_SMA_15min'] < rvol) & (x['parameter_target'] == parameter_target) & (x['parameter_buffer'] == parameter_buffer) & (x['parameter_stop'] == parameter_stop) & (x['distance'] >= distance)]\n",
    "\n",
    "pos = trades[trades['r'] > 0]\n",
    "neg = trades[trades['r'] < 0]\n",
    "\n",
    "z = np.arange(0, 1.5, 0.1)\n",
    "z = [round(q, 2) for q in z]\n",
    "\n",
    "pos_vc = pos['tr_SMA_20min'].value_counts(bins = z, sort=False)\n",
    "neg_vc = neg['tr_SMA_20min'].value_counts(bins = z, sort=False)\n",
    "\n",
    "delta = pos_vc - (neg_vc * (len(pos) / len(neg)))\n",
    "delta.plot(kind = 'barh')"
   ]
  },
  {
   "cell_type": "code",
   "execution_count": null,
   "id": "653d27ee",
   "metadata": {},
   "outputs": [],
   "source": []
  }
 ],
 "metadata": {
  "kernelspec": {
   "display_name": "Python 3 (ipykernel)",
   "language": "python",
   "name": "python3"
  },
  "language_info": {
   "codemirror_mode": {
    "name": "ipython",
    "version": 3
   },
   "file_extension": ".py",
   "mimetype": "text/x-python",
   "name": "python",
   "nbconvert_exporter": "python",
   "pygments_lexer": "ipython3",
   "version": "3.9.7"
  }
 },
 "nbformat": 4,
 "nbformat_minor": 5
}

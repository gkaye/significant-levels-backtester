{
 "cells": [
  {
   "cell_type": "code",
   "execution_count": 22,
   "id": "578dc796",
   "metadata": {},
   "outputs": [],
   "source": [
    "import alpaca_trade_api as api\n",
    "import pandas\n",
    "import pickle"
   ]
  },
  {
   "cell_type": "code",
   "execution_count": 23,
   "id": "8e4d0856",
   "metadata": {},
   "outputs": [
    {
     "data": {
      "text/html": [
       "<style>.container { width:90% !important; }</style>"
      ],
      "text/plain": [
       "<IPython.core.display.HTML object>"
      ]
     },
     "metadata": {},
     "output_type": "display_data"
    }
   ],
   "source": [
    "from IPython.display import display, HTML\n",
    "display(HTML(\"<style>.container { width:90% !important; }</style>\"))\n",
    "pandas.set_option('display.max_columns', None)\n",
    "pandas.set_option('display.max_rows', None)\n",
    "pandas.set_option('display.float_format', lambda x: '%.3f' % x)"
   ]
  },
  {
   "cell_type": "code",
   "execution_count": 24,
   "id": "3b335b9a",
   "metadata": {},
   "outputs": [],
   "source": [
    "API_KEY = '<API_KEY>'\n",
    "SECRET_KEY = '<SECRET_KEY>'"
   ]
  },
  {
   "cell_type": "code",
   "execution_count": 25,
   "id": "6db9b1d2",
   "metadata": {},
   "outputs": [],
   "source": [
    "alpaca = api.REST(API_KEY, SECRET_KEY)"
   ]
  },
  {
   "cell_type": "code",
   "execution_count": null,
   "id": "f4fa283a",
   "metadata": {},
   "outputs": [],
   "source": []
  },
  {
   "cell_type": "code",
   "execution_count": 26,
   "id": "4eae4355",
   "metadata": {},
   "outputs": [],
   "source": [
    "# PARAMETERS\n",
    "symbol = 'SPY'\n",
    "start_date = \"2020-06-14\"\n",
    "end_date = \"2023-02-16\""
   ]
  },
  {
   "cell_type": "markdown",
   "id": "4e26452d",
   "metadata": {},
   "source": [
    "# MINUTE BARS DOWNLOAD"
   ]
  },
  {
   "cell_type": "code",
   "execution_count": 27,
   "id": "e2cb2cd2",
   "metadata": {},
   "outputs": [
    {
     "name": "stdout",
     "output_type": "stream",
     "text": [
      "Writing bars to file:\n",
      "bars/SPY_2020-06-14_to_2023-02-16.pickle\n",
      "\n"
     ]
    }
   ],
   "source": [
    "file_dir = f'bars/{symbol}_{start_date}_to_{end_date}.pickle'\n",
    "print('Writing bars to file:')\n",
    "print(file_dir)\n",
    "print()"
   ]
  },
  {
   "cell_type": "code",
   "execution_count": 28,
   "id": "13bc74e5",
   "metadata": {},
   "outputs": [],
   "source": [
    "bars = alpaca.get_bars(symbol, api.TimeFrame(1, api.TimeFrameUnit.Minute), start_date, end_date, adjustment='raw').df\n",
    "bars.to_pickle(f'bars/{symbol}_{start_date}_to_{end_date}.pickle')"
   ]
  },
  {
   "cell_type": "code",
   "execution_count": 29,
   "id": "0ec83c30",
   "metadata": {},
   "outputs": [
    {
     "data": {
      "text/html": [
       "<div>\n",
       "<style scoped>\n",
       "    .dataframe tbody tr th:only-of-type {\n",
       "        vertical-align: middle;\n",
       "    }\n",
       "\n",
       "    .dataframe tbody tr th {\n",
       "        vertical-align: top;\n",
       "    }\n",
       "\n",
       "    .dataframe thead th {\n",
       "        text-align: right;\n",
       "    }\n",
       "</style>\n",
       "<table border=\"1\" class=\"dataframe\">\n",
       "  <thead>\n",
       "    <tr style=\"text-align: right;\">\n",
       "      <th></th>\n",
       "      <th>open</th>\n",
       "      <th>high</th>\n",
       "      <th>low</th>\n",
       "      <th>close</th>\n",
       "      <th>volume</th>\n",
       "      <th>trade_count</th>\n",
       "      <th>vwap</th>\n",
       "    </tr>\n",
       "    <tr>\n",
       "      <th>timestamp</th>\n",
       "      <th></th>\n",
       "      <th></th>\n",
       "      <th></th>\n",
       "      <th></th>\n",
       "      <th></th>\n",
       "      <th></th>\n",
       "      <th></th>\n",
       "    </tr>\n",
       "  </thead>\n",
       "  <tbody>\n",
       "    <tr>\n",
       "      <th>2020-06-15 08:00:00+00:00</th>\n",
       "      <td>296.360</td>\n",
       "      <td>296.410</td>\n",
       "      <td>296.200</td>\n",
       "      <td>296.300</td>\n",
       "      <td>25228</td>\n",
       "      <td>63</td>\n",
       "      <td>296.318</td>\n",
       "    </tr>\n",
       "    <tr>\n",
       "      <th>2020-06-15 08:01:00+00:00</th>\n",
       "      <td>296.300</td>\n",
       "      <td>296.910</td>\n",
       "      <td>296.210</td>\n",
       "      <td>296.740</td>\n",
       "      <td>20372</td>\n",
       "      <td>69</td>\n",
       "      <td>296.465</td>\n",
       "    </tr>\n",
       "    <tr>\n",
       "      <th>2020-06-15 08:02:00+00:00</th>\n",
       "      <td>296.570</td>\n",
       "      <td>296.570</td>\n",
       "      <td>296.020</td>\n",
       "      <td>296.240</td>\n",
       "      <td>24580</td>\n",
       "      <td>143</td>\n",
       "      <td>296.318</td>\n",
       "    </tr>\n",
       "    <tr>\n",
       "      <th>2020-06-15 08:03:00+00:00</th>\n",
       "      <td>296.300</td>\n",
       "      <td>296.650</td>\n",
       "      <td>296.300</td>\n",
       "      <td>296.640</td>\n",
       "      <td>10978</td>\n",
       "      <td>75</td>\n",
       "      <td>296.529</td>\n",
       "    </tr>\n",
       "    <tr>\n",
       "      <th>2020-06-15 08:04:00+00:00</th>\n",
       "      <td>296.560</td>\n",
       "      <td>296.580</td>\n",
       "      <td>296.320</td>\n",
       "      <td>296.350</td>\n",
       "      <td>12741</td>\n",
       "      <td>88</td>\n",
       "      <td>296.465</td>\n",
       "    </tr>\n",
       "  </tbody>\n",
       "</table>\n",
       "</div>"
      ],
      "text/plain": [
       "                             open    high     low   close  volume  \\\n",
       "timestamp                                                           \n",
       "2020-06-15 08:00:00+00:00 296.360 296.410 296.200 296.300   25228   \n",
       "2020-06-15 08:01:00+00:00 296.300 296.910 296.210 296.740   20372   \n",
       "2020-06-15 08:02:00+00:00 296.570 296.570 296.020 296.240   24580   \n",
       "2020-06-15 08:03:00+00:00 296.300 296.650 296.300 296.640   10978   \n",
       "2020-06-15 08:04:00+00:00 296.560 296.580 296.320 296.350   12741   \n",
       "\n",
       "                           trade_count    vwap  \n",
       "timestamp                                       \n",
       "2020-06-15 08:00:00+00:00           63 296.318  \n",
       "2020-06-15 08:01:00+00:00           69 296.465  \n",
       "2020-06-15 08:02:00+00:00          143 296.318  \n",
       "2020-06-15 08:03:00+00:00           75 296.529  \n",
       "2020-06-15 08:04:00+00:00           88 296.465  "
      ]
     },
     "execution_count": 29,
     "metadata": {},
     "output_type": "execute_result"
    }
   ],
   "source": [
    "bars.head()"
   ]
  },
  {
   "cell_type": "code",
   "execution_count": 30,
   "id": "aac72838",
   "metadata": {
    "scrolled": true
   },
   "outputs": [
    {
     "data": {
      "text/html": [
       "<div>\n",
       "<style scoped>\n",
       "    .dataframe tbody tr th:only-of-type {\n",
       "        vertical-align: middle;\n",
       "    }\n",
       "\n",
       "    .dataframe tbody tr th {\n",
       "        vertical-align: top;\n",
       "    }\n",
       "\n",
       "    .dataframe thead th {\n",
       "        text-align: right;\n",
       "    }\n",
       "</style>\n",
       "<table border=\"1\" class=\"dataframe\">\n",
       "  <thead>\n",
       "    <tr style=\"text-align: right;\">\n",
       "      <th></th>\n",
       "      <th>open</th>\n",
       "      <th>high</th>\n",
       "      <th>low</th>\n",
       "      <th>close</th>\n",
       "      <th>volume</th>\n",
       "      <th>trade_count</th>\n",
       "      <th>vwap</th>\n",
       "    </tr>\n",
       "    <tr>\n",
       "      <th>timestamp</th>\n",
       "      <th></th>\n",
       "      <th></th>\n",
       "      <th></th>\n",
       "      <th></th>\n",
       "      <th></th>\n",
       "      <th></th>\n",
       "      <th></th>\n",
       "    </tr>\n",
       "  </thead>\n",
       "  <tbody>\n",
       "    <tr>\n",
       "      <th>2023-02-17 00:51:00+00:00</th>\n",
       "      <td>407.190</td>\n",
       "      <td>407.290</td>\n",
       "      <td>407.190</td>\n",
       "      <td>407.250</td>\n",
       "      <td>20428</td>\n",
       "      <td>46</td>\n",
       "      <td>407.245</td>\n",
       "    </tr>\n",
       "    <tr>\n",
       "      <th>2023-02-17 00:52:00+00:00</th>\n",
       "      <td>407.230</td>\n",
       "      <td>407.230</td>\n",
       "      <td>407.230</td>\n",
       "      <td>407.230</td>\n",
       "      <td>742</td>\n",
       "      <td>9</td>\n",
       "      <td>407.233</td>\n",
       "    </tr>\n",
       "    <tr>\n",
       "      <th>2023-02-17 00:54:00+00:00</th>\n",
       "      <td>407.220</td>\n",
       "      <td>407.300</td>\n",
       "      <td>407.220</td>\n",
       "      <td>407.300</td>\n",
       "      <td>858</td>\n",
       "      <td>16</td>\n",
       "      <td>407.256</td>\n",
       "    </tr>\n",
       "    <tr>\n",
       "      <th>2023-02-17 00:58:00+00:00</th>\n",
       "      <td>407.310</td>\n",
       "      <td>407.310</td>\n",
       "      <td>407.300</td>\n",
       "      <td>407.300</td>\n",
       "      <td>415</td>\n",
       "      <td>15</td>\n",
       "      <td>407.304</td>\n",
       "    </tr>\n",
       "    <tr>\n",
       "      <th>2023-02-17 00:59:00+00:00</th>\n",
       "      <td>407.280</td>\n",
       "      <td>407.310</td>\n",
       "      <td>407.260</td>\n",
       "      <td>407.300</td>\n",
       "      <td>7552</td>\n",
       "      <td>32</td>\n",
       "      <td>407.293</td>\n",
       "    </tr>\n",
       "  </tbody>\n",
       "</table>\n",
       "</div>"
      ],
      "text/plain": [
       "                             open    high     low   close  volume  \\\n",
       "timestamp                                                           \n",
       "2023-02-17 00:51:00+00:00 407.190 407.290 407.190 407.250   20428   \n",
       "2023-02-17 00:52:00+00:00 407.230 407.230 407.230 407.230     742   \n",
       "2023-02-17 00:54:00+00:00 407.220 407.300 407.220 407.300     858   \n",
       "2023-02-17 00:58:00+00:00 407.310 407.310 407.300 407.300     415   \n",
       "2023-02-17 00:59:00+00:00 407.280 407.310 407.260 407.300    7552   \n",
       "\n",
       "                           trade_count    vwap  \n",
       "timestamp                                       \n",
       "2023-02-17 00:51:00+00:00           46 407.245  \n",
       "2023-02-17 00:52:00+00:00            9 407.233  \n",
       "2023-02-17 00:54:00+00:00           16 407.256  \n",
       "2023-02-17 00:58:00+00:00           15 407.304  \n",
       "2023-02-17 00:59:00+00:00           32 407.293  "
      ]
     },
     "execution_count": 30,
     "metadata": {},
     "output_type": "execute_result"
    }
   ],
   "source": [
    "bars.tail()"
   ]
  },
  {
   "cell_type": "code",
   "execution_count": null,
   "id": "b552b60f",
   "metadata": {},
   "outputs": [],
   "source": []
  },
  {
   "cell_type": "code",
   "execution_count": null,
   "id": "f2a43e83",
   "metadata": {},
   "outputs": [],
   "source": []
  },
  {
   "cell_type": "code",
   "execution_count": null,
   "id": "e73871f2",
   "metadata": {},
   "outputs": [],
   "source": []
  },
  {
   "cell_type": "markdown",
   "id": "942455f7",
   "metadata": {},
   "source": [
    "# DAILY BARS DOWNLOAD"
   ]
  },
  {
   "cell_type": "code",
   "execution_count": 15,
   "id": "ecba7a5b",
   "metadata": {},
   "outputs": [
    {
     "name": "stdout",
     "output_type": "stream",
     "text": [
      "Writing bars to file:\n",
      "bars/SPY_DAILY_2020-06-14_to_2023-02-16.pickle\n",
      "\n"
     ]
    }
   ],
   "source": [
    "file_dir = f'bars/{symbol}_DAILY_{start_date}_to_{end_date}.pickle'\n",
    "print('Writing bars to file:')\n",
    "print(file_dir)\n",
    "print()"
   ]
  },
  {
   "cell_type": "code",
   "execution_count": 17,
   "id": "95f86ae2",
   "metadata": {},
   "outputs": [
    {
     "name": "stdout",
     "output_type": "stream",
     "text": [
      "Writing bars to file:\n",
      "bars/SPY_DAILY_2020-06-14_to_2023-02-16.pickle\n",
      "\n"
     ]
    }
   ],
   "source": [
    "bars = alpaca.get_bars(symbol, api.TimeFrame(1, api.TimeFrameUnit.Day), start_date, end_date, adjustment='raw').df\n",
    "\n",
    "# SET TIME TO 0:00\n",
    "bars = bars.rename(index=lambda x: x.replace(hour=0, minute=0, second=0, microsecond=0, nanosecond=0))\n",
    "\n",
    "file_dir = f'bars/{symbol}_DAILY_{start_date}_to_{end_date}.pickle'\n",
    "bars.to_pickle(file_dir)\n",
    "print('Writing bars to file:')\n",
    "print(file_dir)\n",
    "print()"
   ]
  },
  {
   "cell_type": "code",
   "execution_count": 13,
   "id": "fd4b2c71",
   "metadata": {
    "scrolled": true
   },
   "outputs": [
    {
     "data": {
      "text/html": [
       "<div>\n",
       "<style scoped>\n",
       "    .dataframe tbody tr th:only-of-type {\n",
       "        vertical-align: middle;\n",
       "    }\n",
       "\n",
       "    .dataframe tbody tr th {\n",
       "        vertical-align: top;\n",
       "    }\n",
       "\n",
       "    .dataframe thead th {\n",
       "        text-align: right;\n",
       "    }\n",
       "</style>\n",
       "<table border=\"1\" class=\"dataframe\">\n",
       "  <thead>\n",
       "    <tr style=\"text-align: right;\">\n",
       "      <th></th>\n",
       "      <th>open</th>\n",
       "      <th>high</th>\n",
       "      <th>low</th>\n",
       "      <th>close</th>\n",
       "      <th>volume</th>\n",
       "      <th>trade_count</th>\n",
       "      <th>vwap</th>\n",
       "    </tr>\n",
       "    <tr>\n",
       "      <th>timestamp</th>\n",
       "      <th></th>\n",
       "      <th></th>\n",
       "      <th></th>\n",
       "      <th></th>\n",
       "      <th></th>\n",
       "      <th></th>\n",
       "      <th></th>\n",
       "    </tr>\n",
       "  </thead>\n",
       "  <tbody>\n",
       "    <tr>\n",
       "      <th>2020-06-15 00:00:00+00:00</th>\n",
       "      <td>298.020</td>\n",
       "      <td>308.280</td>\n",
       "      <td>296.740</td>\n",
       "      <td>307.110</td>\n",
       "      <td>135789334</td>\n",
       "      <td>779013</td>\n",
       "      <td>303.857</td>\n",
       "    </tr>\n",
       "    <tr>\n",
       "      <th>2020-06-16 00:00:00+00:00</th>\n",
       "      <td>315.480</td>\n",
       "      <td>315.640</td>\n",
       "      <td>307.670</td>\n",
       "      <td>312.750</td>\n",
       "      <td>137623502</td>\n",
       "      <td>808627</td>\n",
       "      <td>312.590</td>\n",
       "    </tr>\n",
       "    <tr>\n",
       "      <th>2020-06-17 00:00:00+00:00</th>\n",
       "      <td>314.070</td>\n",
       "      <td>314.390</td>\n",
       "      <td>310.860</td>\n",
       "      <td>311.660</td>\n",
       "      <td>83200944</td>\n",
       "      <td>435972</td>\n",
       "      <td>312.636</td>\n",
       "    </tr>\n",
       "    <tr>\n",
       "      <th>2020-06-18 00:00:00+00:00</th>\n",
       "      <td>310.005</td>\n",
       "      <td>312.300</td>\n",
       "      <td>309.510</td>\n",
       "      <td>311.760</td>\n",
       "      <td>80828658</td>\n",
       "      <td>419208</td>\n",
       "      <td>311.210</td>\n",
       "    </tr>\n",
       "    <tr>\n",
       "      <th>2020-06-19 00:00:00+00:00</th>\n",
       "      <td>314.170</td>\n",
       "      <td>314.380</td>\n",
       "      <td>306.530</td>\n",
       "      <td>308.540</td>\n",
       "      <td>136935124</td>\n",
       "      <td>606556</td>\n",
       "      <td>310.357</td>\n",
       "    </tr>\n",
       "  </tbody>\n",
       "</table>\n",
       "</div>"
      ],
      "text/plain": [
       "                             open    high     low   close     volume  \\\n",
       "timestamp                                                              \n",
       "2020-06-15 00:00:00+00:00 298.020 308.280 296.740 307.110  135789334   \n",
       "2020-06-16 00:00:00+00:00 315.480 315.640 307.670 312.750  137623502   \n",
       "2020-06-17 00:00:00+00:00 314.070 314.390 310.860 311.660   83200944   \n",
       "2020-06-18 00:00:00+00:00 310.005 312.300 309.510 311.760   80828658   \n",
       "2020-06-19 00:00:00+00:00 314.170 314.380 306.530 308.540  136935124   \n",
       "\n",
       "                           trade_count    vwap  \n",
       "timestamp                                       \n",
       "2020-06-15 00:00:00+00:00       779013 303.857  \n",
       "2020-06-16 00:00:00+00:00       808627 312.590  \n",
       "2020-06-17 00:00:00+00:00       435972 312.636  \n",
       "2020-06-18 00:00:00+00:00       419208 311.210  \n",
       "2020-06-19 00:00:00+00:00       606556 310.357  "
      ]
     },
     "execution_count": 13,
     "metadata": {},
     "output_type": "execute_result"
    }
   ],
   "source": [
    "bars.head()"
   ]
  },
  {
   "cell_type": "code",
   "execution_count": 14,
   "id": "b4572c3c",
   "metadata": {
    "scrolled": false
   },
   "outputs": [
    {
     "data": {
      "text/html": [
       "<div>\n",
       "<style scoped>\n",
       "    .dataframe tbody tr th:only-of-type {\n",
       "        vertical-align: middle;\n",
       "    }\n",
       "\n",
       "    .dataframe tbody tr th {\n",
       "        vertical-align: top;\n",
       "    }\n",
       "\n",
       "    .dataframe thead th {\n",
       "        text-align: right;\n",
       "    }\n",
       "</style>\n",
       "<table border=\"1\" class=\"dataframe\">\n",
       "  <thead>\n",
       "    <tr style=\"text-align: right;\">\n",
       "      <th></th>\n",
       "      <th>open</th>\n",
       "      <th>high</th>\n",
       "      <th>low</th>\n",
       "      <th>close</th>\n",
       "      <th>volume</th>\n",
       "      <th>trade_count</th>\n",
       "      <th>vwap</th>\n",
       "    </tr>\n",
       "    <tr>\n",
       "      <th>timestamp</th>\n",
       "      <th></th>\n",
       "      <th></th>\n",
       "      <th></th>\n",
       "      <th></th>\n",
       "      <th></th>\n",
       "      <th></th>\n",
       "      <th></th>\n",
       "    </tr>\n",
       "  </thead>\n",
       "  <tbody>\n",
       "    <tr>\n",
       "      <th>2023-02-10 00:00:00+00:00</th>\n",
       "      <td>405.860</td>\n",
       "      <td>408.440</td>\n",
       "      <td>405.010</td>\n",
       "      <td>408.040</td>\n",
       "      <td>70769715</td>\n",
       "      <td>489779</td>\n",
       "      <td>407.009</td>\n",
       "    </tr>\n",
       "    <tr>\n",
       "      <th>2023-02-13 00:00:00+00:00</th>\n",
       "      <td>408.720</td>\n",
       "      <td>412.970</td>\n",
       "      <td>408.240</td>\n",
       "      <td>412.830</td>\n",
       "      <td>64923047</td>\n",
       "      <td>427006</td>\n",
       "      <td>411.387</td>\n",
       "    </tr>\n",
       "    <tr>\n",
       "      <th>2023-02-14 00:00:00+00:00</th>\n",
       "      <td>411.240</td>\n",
       "      <td>415.050</td>\n",
       "      <td>408.511</td>\n",
       "      <td>412.640</td>\n",
       "      <td>88412194</td>\n",
       "      <td>628223</td>\n",
       "      <td>412.117</td>\n",
       "    </tr>\n",
       "    <tr>\n",
       "      <th>2023-02-15 00:00:00+00:00</th>\n",
       "      <td>410.350</td>\n",
       "      <td>414.060</td>\n",
       "      <td>409.470</td>\n",
       "      <td>413.980</td>\n",
       "      <td>61685279</td>\n",
       "      <td>427502</td>\n",
       "      <td>412.265</td>\n",
       "    </tr>\n",
       "    <tr>\n",
       "      <th>2023-02-16 00:00:00+00:00</th>\n",
       "      <td>408.790</td>\n",
       "      <td>412.910</td>\n",
       "      <td>408.140</td>\n",
       "      <td>408.280</td>\n",
       "      <td>74002384</td>\n",
       "      <td>579478</td>\n",
       "      <td>410.369</td>\n",
       "    </tr>\n",
       "  </tbody>\n",
       "</table>\n",
       "</div>"
      ],
      "text/plain": [
       "                             open    high     low   close    volume  \\\n",
       "timestamp                                                             \n",
       "2023-02-10 00:00:00+00:00 405.860 408.440 405.010 408.040  70769715   \n",
       "2023-02-13 00:00:00+00:00 408.720 412.970 408.240 412.830  64923047   \n",
       "2023-02-14 00:00:00+00:00 411.240 415.050 408.511 412.640  88412194   \n",
       "2023-02-15 00:00:00+00:00 410.350 414.060 409.470 413.980  61685279   \n",
       "2023-02-16 00:00:00+00:00 408.790 412.910 408.140 408.280  74002384   \n",
       "\n",
       "                           trade_count    vwap  \n",
       "timestamp                                       \n",
       "2023-02-10 00:00:00+00:00       489779 407.009  \n",
       "2023-02-13 00:00:00+00:00       427006 411.387  \n",
       "2023-02-14 00:00:00+00:00       628223 412.117  \n",
       "2023-02-15 00:00:00+00:00       427502 412.265  \n",
       "2023-02-16 00:00:00+00:00       579478 410.369  "
      ]
     },
     "execution_count": 14,
     "metadata": {},
     "output_type": "execute_result"
    }
   ],
   "source": [
    "bars.tail()"
   ]
  },
  {
   "cell_type": "code",
   "execution_count": null,
   "id": "88a293a3",
   "metadata": {},
   "outputs": [],
   "source": []
  },
  {
   "cell_type": "code",
   "execution_count": null,
   "id": "c28017a8",
   "metadata": {},
   "outputs": [],
   "source": []
  }
 ],
 "metadata": {
  "kernelspec": {
   "display_name": "Python 3 (ipykernel)",
   "language": "python",
   "name": "python3"
  },
  "language_info": {
   "codemirror_mode": {
    "name": "ipython",
    "version": 3
   },
   "file_extension": ".py",
   "mimetype": "text/x-python",
   "name": "python",
   "nbconvert_exporter": "python",
   "pygments_lexer": "ipython3",
   "version": "3.9.7"
  }
 },
 "nbformat": 4,
 "nbformat_minor": 5
}

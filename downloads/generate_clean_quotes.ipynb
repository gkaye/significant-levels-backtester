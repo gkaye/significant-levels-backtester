{
 "cells": [
  {
   "cell_type": "code",
   "execution_count": 1,
   "id": "9860abcc",
   "metadata": {},
   "outputs": [],
   "source": [
    "import os.path\n",
    "import pandas\n",
    "import glob"
   ]
  },
  {
   "cell_type": "code",
   "execution_count": 2,
   "id": "a0a8e0a0",
   "metadata": {
    "scrolled": false
   },
   "outputs": [
    {
     "name": "stdout",
     "output_type": "stream",
     "text": [
      "processing ./full_day_quotes\\SPY_2023-02-02.pickle\n",
      "processing ./full_day_quotes\\SPY_2023-02-03.pickle\n",
      "processing ./full_day_quotes\\SPY_2023-02-06.pickle\n",
      "processing ./full_day_quotes\\SPY_2023-02-07.pickle\n",
      "processing ./full_day_quotes\\SPY_2023-02-08.pickle\n",
      "processing ./full_day_quotes\\SPY_2023-02-09.pickle\n",
      "processing ./full_day_quotes\\SPY_2023-02-10.pickle\n",
      "processing ./full_day_quotes\\SPY_2023-02-13.pickle\n",
      "processing ./full_day_quotes\\SPY_2023-02-14.pickle\n",
      "processing ./full_day_quotes\\SPY_2023-02-15.pickle\n",
      "processing ./full_day_quotes\\SPY_2023-02-16.pickle\n"
     ]
    }
   ],
   "source": [
    "file_paths = glob.glob(\"./full_day_quotes/*.pickle\")\n",
    "for file_path in file_paths:\n",
    "    try:\n",
    "        new_file_path = file_path.replace('full_day_quotes', 'clean_quotes')\n",
    "        \n",
    "        if os.path.isfile(new_file_path):\n",
    "            continue\n",
    "        else:\n",
    "            print(f'processing {file_path}')\n",
    "        \n",
    "        quotes = pandas.read_pickle(file_path)\n",
    "        if quotes.empty:\n",
    "            print('empty')\n",
    "            quotes.to_pickle(new_file_path)\n",
    "            continue\n",
    "        q = quotes[(quotes['ask_price'] != quotes.shift()['ask_price']) | (quotes['bid_price'] != quotes.shift()['bid_price'])]\n",
    "        q = q[['ask_price', 'bid_price']]\n",
    "        q.to_pickle(new_file_path)\n",
    "    except Exception as e:\n",
    "        print(f'x- {file_path}')\n",
    "        print(f'error- {e}')"
   ]
  },
  {
   "cell_type": "code",
   "execution_count": null,
   "id": "c17b8a94",
   "metadata": {},
   "outputs": [],
   "source": []
  }
 ],
 "metadata": {
  "kernelspec": {
   "display_name": "Python 3 (ipykernel)",
   "language": "python",
   "name": "python3"
  },
  "language_info": {
   "codemirror_mode": {
    "name": "ipython",
    "version": 3
   },
   "file_extension": ".py",
   "mimetype": "text/x-python",
   "name": "python",
   "nbconvert_exporter": "python",
   "pygments_lexer": "ipython3",
   "version": "3.9.7"
  }
 },
 "nbformat": 4,
 "nbformat_minor": 5
}
